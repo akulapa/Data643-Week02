{
 "cells": [
  {
   "cell_type": "markdown",
   "metadata": {},
   "source": [
    "#### Research Discussion Assignment 1\n",
    "_Pavan Akula_\n",
    "\n",
    "Now that we have covered basic techniques for recommender systems, choose one commercial recommender and describe how you think it works (content-based, collaborative filtering, etc). Does the technique deliver a good experience or are the recommendations off-target?\n",
    "\n",
    "Netflix is my go-to streaming service when it comes to binge-watching movies or favorite TV shows. Based on website _www.statista.com_, Netflix has more than 125 million customers worldwide. And why not? They have the best collection of TV shows, movies and of course best recommender system. Many times while binge-watching my favorite shows, I forget to rate the show. In this case, Netflix is very forgiving and recommends me similar shows. \n",
    "\n",
    "Website _www.wired.com_ suggests, Netflix keeps track of shows I watched, searched for, or rated, as well as the time, date, and device. They even track user interactions such as browsing or scrolling behavior. All that data is fed into several algorithms, each optimized for a different purpose. In a broad sense, most of their machine learning algorithms are designed based on the assumption that similar viewing patterns represent similar user tastes. \n",
    "\n",
    "One of the cool features about Netflix is, based on viewing habits it changes the image of the movie. Example: If you watch a lot of romantic movies, recommender system will display _Good Will Hunting_ with _Matt Damon and Minnie Driver kissing_. On the other hand, if you watch a lot of comedy movies recommender system will present _Good Will Hunting_ with _Robin Williams_.\n",
    "\n",
    "Based on above features, I also believe Netflix uses _hybrid recommender system_.\n",
    "\n",
    "--------\n",
    "\n",
    "You may also choose one of the three non-personalized recommenders (below) we went over in class and describe the technique and which of the three you prefer to use.\n",
    "\n",
    "1. Metacritic:  http://www.metacritic.com/about-metascores\n",
    "2. Rotten Tomatoes:https://www.rottentomatoes.com/about/\n",
    "3. IMDB Rating:  http://imdb.to/ 2ljPH90\n",
    "\n",
    "\n",
    "I use _IMDb Rating_ before watching a movie or TV show. One of the feature I like about IMDB, its ratings based on demographics. Though rating might be baised, it gives me general idea about the movie.\n",
    "\n",
    "--------\n",
    "\n",
    "Read the article below and consider how to handle attacks on recommender systems. Can you think of a similar example where a collective effort to alter the workings of content recommendations have been successful? How would you design a system to prevent this kind of abuse?\n",
    "\n",
    "https://www.washingtonpost.com/news/morning-mix/wp/2017/04/19/wisdom-of-the-crowd-imdb-users-gang-up-on-the-promise-before-it-even-opens/?utm_term=.329a75ece088\n",
    "\n",
    "I found an article on website _www.fivethirtyeight.com_, that explains the reason behind low rating of Bollywood movie _Gunday_. Wikipedia suggests movie was box office success, but the movie got 2.1 rating on IMDb. This shows when the audience gets offended, they could organize and protest the movie by giving it the lowest rating possible on IMDb.\n",
    "\n",
    "If I were to design a recommender system based on ratings, \n",
    "\n",
    "- I would ask users to write a small comment on the part they did not like.\n",
    "- Track time-line or frequency of positive and negative ratings.\n",
    "- Check if the user has rated any other movies and compare to generic critic rating.\n",
    "\n",
    "------\n",
    "#### References\n",
    "- https://www.statista.com/statistics/250934/quarterly-number-of-netflix-streaming-subscribers-worldwide/\n",
    "- http://www.wired.co.uk/article/how-do-netflixs-algorithms-work-machine-learning-helps-to-predict-what-viewers-will-like\n",
    "- https://www.wired.com/2013/08/qq_netflix-algorithm/\n",
    "- https://www.thrillist.com/entertainment/nation/how-new-netflix-recommendation-algorithm-works\n",
    "- http://www.wired.co.uk/article/which-film-ranking-site-should-i-trust-rotten-tomatoes-imdb-metacritic\n",
    "- https://fivethirtyeight.com/features/the-story-behind-the-worst-movie-on-imdb/\n",
    "- https://en.wikipedia.org/wiki/Gunday"
   ]
  }
 ],
 "metadata": {
  "kernelspec": {
   "display_name": "Python 3",
   "language": "python",
   "name": "python3"
  },
  "language_info": {
   "codemirror_mode": {
    "name": "ipython",
    "version": 3
   },
   "file_extension": ".py",
   "mimetype": "text/x-python",
   "name": "python",
   "nbconvert_exporter": "python",
   "pygments_lexer": "ipython3",
   "version": "3.6.5"
  }
 },
 "nbformat": 4,
 "nbformat_minor": 2
}
